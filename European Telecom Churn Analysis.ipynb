{
 "cells": [
  {
   "cell_type": "markdown",
   "id": "a65f4b7e-b715-45b9-b2bb-21d6bee513d2",
   "metadata": {},
   "source": [
    "# Telecommunication Customer Churn Analysis\n",
    "\n",
    "\n",
    "\n",
    "\n",
    "\n",
    "\n",
    "We have analyzed the churn dataset of a European Telecom Company, which includes cleaned customer activity data along with a churn label indicating whether a customer has canceled their subscription. Through this exploration and analysis, we aim to identify the key factors driving customer churn and develop strategies and recommendations to improve customer retention.\n",
    "\n",
    "## Business Understanding of Telecommunicaion Customer Churn\n",
    "The Telecom industry's customer churn refers to the loss of subscribers who cancel their services. \n",
    "Understanding and analyzing churn is crucial for telecom companies, as retaining customers is generally more cost-effective than acquiring new ones.\n",
    "A high churn rate can lead to significant revenue loss, reduced customer lifetime value, and increased acquisition costs. Factors like service quality, pricing, customer support, and competitor offers play a major role in customer decisions to churn. \n",
    "Analyzing churn data helps uncover the key drivers and enables companies to implement strategies to improve customer satisfaction and retention.\n",
    "\n",
    "\n",
    "\n",
    "#### Project Objective\n",
    "The main goal of our project is to develop an understanding of the cause of customer churn which assist telecom operators to predict customers who are most likely subject to churn, and what to do to retain the most valuable customer."
   ]
  },
  {
   "cell_type": "code",
   "execution_count": 2,
   "id": "d72c20c9-4c76-4005-ba30-99cedf149cb7",
   "metadata": {},
   "outputs": [],
   "source": [
    "## Importing the required libraries\n",
    "\n",
    "import pandas as pd\n",
    "import numpy as np\n",
    "import seaborn as sns\n",
    "import matplotlib.pyplot as plt\n",
    "%matplotlib inline\n"
   ]
  },
  {
   "cell_type": "code",
   "execution_count": 3,
   "id": "3e79fbc3-fe5d-420b-b2e7-37b8651f6c24",
   "metadata": {},
   "outputs": [],
   "source": [
    "## Importing the dataset into the notebook\n",
    "\n",
    "df = pd.read_csv(r\"D:\\Data Analysis Projects\\Telecom Churn Dataset.csv\")"
   ]
  },
  {
   "cell_type": "code",
   "execution_count": 4,
   "id": "396bc0a9-97ad-42b7-bb27-4a1f0ab5b532",
   "metadata": {},
   "outputs": [
    {
     "data": {
      "text/html": [
       "<div>\n",
       "<style scoped>\n",
       "    .dataframe tbody tr th:only-of-type {\n",
       "        vertical-align: middle;\n",
       "    }\n",
       "\n",
       "    .dataframe tbody tr th {\n",
       "        vertical-align: top;\n",
       "    }\n",
       "\n",
       "    .dataframe thead th {\n",
       "        text-align: right;\n",
       "    }\n",
       "</style>\n",
       "<table border=\"1\" class=\"dataframe\">\n",
       "  <thead>\n",
       "    <tr style=\"text-align: right;\">\n",
       "      <th></th>\n",
       "      <th>state</th>\n",
       "      <th>account length</th>\n",
       "      <th>area code</th>\n",
       "      <th>phone number</th>\n",
       "      <th>international plan</th>\n",
       "      <th>voice mail plan</th>\n",
       "      <th>number vmail messages</th>\n",
       "      <th>total day minutes</th>\n",
       "      <th>total day calls</th>\n",
       "      <th>total day charge</th>\n",
       "      <th>...</th>\n",
       "      <th>total eve calls</th>\n",
       "      <th>total eve charge</th>\n",
       "      <th>total night minutes</th>\n",
       "      <th>total night calls</th>\n",
       "      <th>total night charge</th>\n",
       "      <th>total intl minutes</th>\n",
       "      <th>total intl calls</th>\n",
       "      <th>total intl charge</th>\n",
       "      <th>customer service calls</th>\n",
       "      <th>churn</th>\n",
       "    </tr>\n",
       "  </thead>\n",
       "  <tbody>\n",
       "    <tr>\n",
       "      <th>0</th>\n",
       "      <td>KS</td>\n",
       "      <td>128</td>\n",
       "      <td>415</td>\n",
       "      <td>382-4657</td>\n",
       "      <td>no</td>\n",
       "      <td>yes</td>\n",
       "      <td>25</td>\n",
       "      <td>265.1</td>\n",
       "      <td>110</td>\n",
       "      <td>45.07</td>\n",
       "      <td>...</td>\n",
       "      <td>99</td>\n",
       "      <td>16.78</td>\n",
       "      <td>244.7</td>\n",
       "      <td>91</td>\n",
       "      <td>11.01</td>\n",
       "      <td>10.0</td>\n",
       "      <td>3</td>\n",
       "      <td>2.70</td>\n",
       "      <td>1</td>\n",
       "      <td>False</td>\n",
       "    </tr>\n",
       "    <tr>\n",
       "      <th>1</th>\n",
       "      <td>OH</td>\n",
       "      <td>107</td>\n",
       "      <td>415</td>\n",
       "      <td>371-7191</td>\n",
       "      <td>no</td>\n",
       "      <td>yes</td>\n",
       "      <td>26</td>\n",
       "      <td>161.6</td>\n",
       "      <td>123</td>\n",
       "      <td>27.47</td>\n",
       "      <td>...</td>\n",
       "      <td>103</td>\n",
       "      <td>16.62</td>\n",
       "      <td>254.4</td>\n",
       "      <td>103</td>\n",
       "      <td>11.45</td>\n",
       "      <td>13.7</td>\n",
       "      <td>3</td>\n",
       "      <td>3.70</td>\n",
       "      <td>1</td>\n",
       "      <td>False</td>\n",
       "    </tr>\n",
       "    <tr>\n",
       "      <th>2</th>\n",
       "      <td>NJ</td>\n",
       "      <td>137</td>\n",
       "      <td>415</td>\n",
       "      <td>358-1921</td>\n",
       "      <td>no</td>\n",
       "      <td>no</td>\n",
       "      <td>0</td>\n",
       "      <td>243.4</td>\n",
       "      <td>114</td>\n",
       "      <td>41.38</td>\n",
       "      <td>...</td>\n",
       "      <td>110</td>\n",
       "      <td>10.30</td>\n",
       "      <td>162.6</td>\n",
       "      <td>104</td>\n",
       "      <td>7.32</td>\n",
       "      <td>12.2</td>\n",
       "      <td>5</td>\n",
       "      <td>3.29</td>\n",
       "      <td>0</td>\n",
       "      <td>False</td>\n",
       "    </tr>\n",
       "    <tr>\n",
       "      <th>3</th>\n",
       "      <td>OH</td>\n",
       "      <td>84</td>\n",
       "      <td>408</td>\n",
       "      <td>375-9999</td>\n",
       "      <td>yes</td>\n",
       "      <td>no</td>\n",
       "      <td>0</td>\n",
       "      <td>299.4</td>\n",
       "      <td>71</td>\n",
       "      <td>50.90</td>\n",
       "      <td>...</td>\n",
       "      <td>88</td>\n",
       "      <td>5.26</td>\n",
       "      <td>196.9</td>\n",
       "      <td>89</td>\n",
       "      <td>8.86</td>\n",
       "      <td>6.6</td>\n",
       "      <td>7</td>\n",
       "      <td>1.78</td>\n",
       "      <td>2</td>\n",
       "      <td>False</td>\n",
       "    </tr>\n",
       "    <tr>\n",
       "      <th>4</th>\n",
       "      <td>OK</td>\n",
       "      <td>75</td>\n",
       "      <td>415</td>\n",
       "      <td>330-6626</td>\n",
       "      <td>yes</td>\n",
       "      <td>no</td>\n",
       "      <td>0</td>\n",
       "      <td>166.7</td>\n",
       "      <td>113</td>\n",
       "      <td>28.34</td>\n",
       "      <td>...</td>\n",
       "      <td>122</td>\n",
       "      <td>12.61</td>\n",
       "      <td>186.9</td>\n",
       "      <td>121</td>\n",
       "      <td>8.41</td>\n",
       "      <td>10.1</td>\n",
       "      <td>3</td>\n",
       "      <td>2.73</td>\n",
       "      <td>3</td>\n",
       "      <td>False</td>\n",
       "    </tr>\n",
       "  </tbody>\n",
       "</table>\n",
       "<p>5 rows × 21 columns</p>\n",
       "</div>"
      ],
      "text/plain": [
       "  state  account length  area code phone number international plan  \\\n",
       "0    KS             128        415     382-4657                 no   \n",
       "1    OH             107        415     371-7191                 no   \n",
       "2    NJ             137        415     358-1921                 no   \n",
       "3    OH              84        408     375-9999                yes   \n",
       "4    OK              75        415     330-6626                yes   \n",
       "\n",
       "  voice mail plan  number vmail messages  total day minutes  total day calls  \\\n",
       "0             yes                     25              265.1              110   \n",
       "1             yes                     26              161.6              123   \n",
       "2              no                      0              243.4              114   \n",
       "3              no                      0              299.4               71   \n",
       "4              no                      0              166.7              113   \n",
       "\n",
       "   total day charge  ...  total eve calls  total eve charge  \\\n",
       "0             45.07  ...               99             16.78   \n",
       "1             27.47  ...              103             16.62   \n",
       "2             41.38  ...              110             10.30   \n",
       "3             50.90  ...               88              5.26   \n",
       "4             28.34  ...              122             12.61   \n",
       "\n",
       "   total night minutes  total night calls  total night charge  \\\n",
       "0                244.7                 91               11.01   \n",
       "1                254.4                103               11.45   \n",
       "2                162.6                104                7.32   \n",
       "3                196.9                 89                8.86   \n",
       "4                186.9                121                8.41   \n",
       "\n",
       "   total intl minutes  total intl calls  total intl charge  \\\n",
       "0                10.0                 3               2.70   \n",
       "1                13.7                 3               3.70   \n",
       "2                12.2                 5               3.29   \n",
       "3                 6.6                 7               1.78   \n",
       "4                10.1                 3               2.73   \n",
       "\n",
       "   customer service calls  churn  \n",
       "0                       1  False  \n",
       "1                       1  False  \n",
       "2                       0  False  \n",
       "3                       2  False  \n",
       "4                       3  False  \n",
       "\n",
       "[5 rows x 21 columns]"
      ]
     },
     "execution_count": 4,
     "metadata": {},
     "output_type": "execute_result"
    }
   ],
   "source": [
    "##Brief overview of the dataset columns and rows\n",
    "df.head(5)"
   ]
  },
  {
   "cell_type": "code",
   "execution_count": 5,
   "id": "01daab31-aa60-48f3-a591-2ff591a2ca2a",
   "metadata": {},
   "outputs": [
    {
     "name": "stdout",
     "output_type": "stream",
     "text": [
      "<class 'pandas.core.frame.DataFrame'>\n",
      "RangeIndex: 3333 entries, 0 to 3332\n",
      "Data columns (total 21 columns):\n",
      " #   Column                  Non-Null Count  Dtype  \n",
      "---  ------                  --------------  -----  \n",
      " 0   state                   3333 non-null   object \n",
      " 1   account length          3333 non-null   int64  \n",
      " 2   area code               3333 non-null   int64  \n",
      " 3   phone number            3333 non-null   object \n",
      " 4   international plan      3333 non-null   object \n",
      " 5   voice mail plan         3333 non-null   object \n",
      " 6   number vmail messages   3333 non-null   int64  \n",
      " 7   total day minutes       3333 non-null   float64\n",
      " 8   total day calls         3333 non-null   int64  \n",
      " 9   total day charge        3333 non-null   float64\n",
      " 10  total eve minutes       3333 non-null   float64\n",
      " 11  total eve calls         3333 non-null   int64  \n",
      " 12  total eve charge        3333 non-null   float64\n",
      " 13  total night minutes     3333 non-null   float64\n",
      " 14  total night calls       3333 non-null   int64  \n",
      " 15  total night charge      3333 non-null   float64\n",
      " 16  total intl minutes      3333 non-null   float64\n",
      " 17  total intl calls        3333 non-null   int64  \n",
      " 18  total intl charge       3333 non-null   float64\n",
      " 19  customer service calls  3333 non-null   int64  \n",
      " 20  churn                   3333 non-null   bool   \n",
      "dtypes: bool(1), float64(8), int64(8), object(4)\n",
      "memory usage: 524.2+ KB\n"
     ]
    }
   ],
   "source": [
    "## Inormation about the columns\n",
    "df.info()"
   ]
  },
  {
   "cell_type": "code",
   "execution_count": 6,
   "id": "2b0a3080-9df9-480e-bc27-4546aee1783d",
   "metadata": {},
   "outputs": [
    {
     "data": {
      "text/plain": [
       "(3333, 21)"
      ]
     },
     "execution_count": 6,
     "metadata": {},
     "output_type": "execute_result"
    }
   ],
   "source": [
    "df.shape\n",
    "\n",
    "## The dataset consists of 3333 rows and 21 columns"
   ]
  },
  {
   "cell_type": "code",
   "execution_count": 7,
   "id": "313dbd7e-6e4e-47dc-93f0-c15410231332",
   "metadata": {},
   "outputs": [
    {
     "data": {
      "text/plain": [
       "state                       51\n",
       "account length             212\n",
       "area code                    3\n",
       "phone number              3333\n",
       "international plan           2\n",
       "voice mail plan              2\n",
       "number vmail messages       46\n",
       "total day minutes         1667\n",
       "total day calls            119\n",
       "total day charge          1667\n",
       "total eve minutes         1611\n",
       "total eve calls            123\n",
       "total eve charge          1440\n",
       "total night minutes       1591\n",
       "total night calls          120\n",
       "total night charge         933\n",
       "total intl minutes         162\n",
       "total intl calls            21\n",
       "total intl charge          162\n",
       "customer service calls      10\n",
       "churn                        2\n",
       "dtype: int64"
      ]
     },
     "execution_count": 7,
     "metadata": {},
     "output_type": "execute_result"
    }
   ],
   "source": [
    "## Show the number of unque values\n",
    "\n",
    "df.nunique()"
   ]
  },
  {
   "cell_type": "code",
   "execution_count": 8,
   "id": "cba619a2-f72f-4e49-91ea-580fd2b73477",
   "metadata": {},
   "outputs": [
    {
     "data": {
      "text/html": [
       "<div>\n",
       "<style scoped>\n",
       "    .dataframe tbody tr th:only-of-type {\n",
       "        vertical-align: middle;\n",
       "    }\n",
       "\n",
       "    .dataframe tbody tr th {\n",
       "        vertical-align: top;\n",
       "    }\n",
       "\n",
       "    .dataframe thead th {\n",
       "        text-align: right;\n",
       "    }\n",
       "</style>\n",
       "<table border=\"1\" class=\"dataframe\">\n",
       "  <thead>\n",
       "    <tr style=\"text-align: right;\">\n",
       "      <th></th>\n",
       "      <th>account length</th>\n",
       "      <th>area code</th>\n",
       "      <th>number vmail messages</th>\n",
       "      <th>total day minutes</th>\n",
       "      <th>total day calls</th>\n",
       "      <th>total day charge</th>\n",
       "      <th>total eve minutes</th>\n",
       "      <th>total eve calls</th>\n",
       "      <th>total eve charge</th>\n",
       "      <th>total night minutes</th>\n",
       "      <th>total night calls</th>\n",
       "      <th>total night charge</th>\n",
       "      <th>total intl minutes</th>\n",
       "      <th>total intl calls</th>\n",
       "      <th>total intl charge</th>\n",
       "      <th>customer service calls</th>\n",
       "    </tr>\n",
       "  </thead>\n",
       "  <tbody>\n",
       "    <tr>\n",
       "      <th>count</th>\n",
       "      <td>3333.000000</td>\n",
       "      <td>3333.000000</td>\n",
       "      <td>3333.000000</td>\n",
       "      <td>3333.000000</td>\n",
       "      <td>3333.000000</td>\n",
       "      <td>3333.000000</td>\n",
       "      <td>3333.000000</td>\n",
       "      <td>3333.000000</td>\n",
       "      <td>3333.000000</td>\n",
       "      <td>3333.000000</td>\n",
       "      <td>3333.000000</td>\n",
       "      <td>3333.000000</td>\n",
       "      <td>3333.000000</td>\n",
       "      <td>3333.000000</td>\n",
       "      <td>3333.000000</td>\n",
       "      <td>3333.000000</td>\n",
       "    </tr>\n",
       "    <tr>\n",
       "      <th>mean</th>\n",
       "      <td>101.064806</td>\n",
       "      <td>437.182418</td>\n",
       "      <td>8.099010</td>\n",
       "      <td>179.775098</td>\n",
       "      <td>100.435644</td>\n",
       "      <td>30.562307</td>\n",
       "      <td>200.980348</td>\n",
       "      <td>100.114311</td>\n",
       "      <td>17.083540</td>\n",
       "      <td>200.872037</td>\n",
       "      <td>100.107711</td>\n",
       "      <td>9.039325</td>\n",
       "      <td>10.237294</td>\n",
       "      <td>4.479448</td>\n",
       "      <td>2.764581</td>\n",
       "      <td>1.562856</td>\n",
       "    </tr>\n",
       "    <tr>\n",
       "      <th>std</th>\n",
       "      <td>39.822106</td>\n",
       "      <td>42.371290</td>\n",
       "      <td>13.688365</td>\n",
       "      <td>54.467389</td>\n",
       "      <td>20.069084</td>\n",
       "      <td>9.259435</td>\n",
       "      <td>50.713844</td>\n",
       "      <td>19.922625</td>\n",
       "      <td>4.310668</td>\n",
       "      <td>50.573847</td>\n",
       "      <td>19.568609</td>\n",
       "      <td>2.275873</td>\n",
       "      <td>2.791840</td>\n",
       "      <td>2.461214</td>\n",
       "      <td>0.753773</td>\n",
       "      <td>1.315491</td>\n",
       "    </tr>\n",
       "    <tr>\n",
       "      <th>min</th>\n",
       "      <td>1.000000</td>\n",
       "      <td>408.000000</td>\n",
       "      <td>0.000000</td>\n",
       "      <td>0.000000</td>\n",
       "      <td>0.000000</td>\n",
       "      <td>0.000000</td>\n",
       "      <td>0.000000</td>\n",
       "      <td>0.000000</td>\n",
       "      <td>0.000000</td>\n",
       "      <td>23.200000</td>\n",
       "      <td>33.000000</td>\n",
       "      <td>1.040000</td>\n",
       "      <td>0.000000</td>\n",
       "      <td>0.000000</td>\n",
       "      <td>0.000000</td>\n",
       "      <td>0.000000</td>\n",
       "    </tr>\n",
       "    <tr>\n",
       "      <th>25%</th>\n",
       "      <td>74.000000</td>\n",
       "      <td>408.000000</td>\n",
       "      <td>0.000000</td>\n",
       "      <td>143.700000</td>\n",
       "      <td>87.000000</td>\n",
       "      <td>24.430000</td>\n",
       "      <td>166.600000</td>\n",
       "      <td>87.000000</td>\n",
       "      <td>14.160000</td>\n",
       "      <td>167.000000</td>\n",
       "      <td>87.000000</td>\n",
       "      <td>7.520000</td>\n",
       "      <td>8.500000</td>\n",
       "      <td>3.000000</td>\n",
       "      <td>2.300000</td>\n",
       "      <td>1.000000</td>\n",
       "    </tr>\n",
       "    <tr>\n",
       "      <th>50%</th>\n",
       "      <td>101.000000</td>\n",
       "      <td>415.000000</td>\n",
       "      <td>0.000000</td>\n",
       "      <td>179.400000</td>\n",
       "      <td>101.000000</td>\n",
       "      <td>30.500000</td>\n",
       "      <td>201.400000</td>\n",
       "      <td>100.000000</td>\n",
       "      <td>17.120000</td>\n",
       "      <td>201.200000</td>\n",
       "      <td>100.000000</td>\n",
       "      <td>9.050000</td>\n",
       "      <td>10.300000</td>\n",
       "      <td>4.000000</td>\n",
       "      <td>2.780000</td>\n",
       "      <td>1.000000</td>\n",
       "    </tr>\n",
       "    <tr>\n",
       "      <th>75%</th>\n",
       "      <td>127.000000</td>\n",
       "      <td>510.000000</td>\n",
       "      <td>20.000000</td>\n",
       "      <td>216.400000</td>\n",
       "      <td>114.000000</td>\n",
       "      <td>36.790000</td>\n",
       "      <td>235.300000</td>\n",
       "      <td>114.000000</td>\n",
       "      <td>20.000000</td>\n",
       "      <td>235.300000</td>\n",
       "      <td>113.000000</td>\n",
       "      <td>10.590000</td>\n",
       "      <td>12.100000</td>\n",
       "      <td>6.000000</td>\n",
       "      <td>3.270000</td>\n",
       "      <td>2.000000</td>\n",
       "    </tr>\n",
       "    <tr>\n",
       "      <th>max</th>\n",
       "      <td>243.000000</td>\n",
       "      <td>510.000000</td>\n",
       "      <td>51.000000</td>\n",
       "      <td>350.800000</td>\n",
       "      <td>165.000000</td>\n",
       "      <td>59.640000</td>\n",
       "      <td>363.700000</td>\n",
       "      <td>170.000000</td>\n",
       "      <td>30.910000</td>\n",
       "      <td>395.000000</td>\n",
       "      <td>175.000000</td>\n",
       "      <td>17.770000</td>\n",
       "      <td>20.000000</td>\n",
       "      <td>20.000000</td>\n",
       "      <td>5.400000</td>\n",
       "      <td>9.000000</td>\n",
       "    </tr>\n",
       "  </tbody>\n",
       "</table>\n",
       "</div>"
      ],
      "text/plain": [
       "       account length    area code  number vmail messages  total day minutes  \\\n",
       "count     3333.000000  3333.000000            3333.000000        3333.000000   \n",
       "mean       101.064806   437.182418               8.099010         179.775098   \n",
       "std         39.822106    42.371290              13.688365          54.467389   \n",
       "min          1.000000   408.000000               0.000000           0.000000   \n",
       "25%         74.000000   408.000000               0.000000         143.700000   \n",
       "50%        101.000000   415.000000               0.000000         179.400000   \n",
       "75%        127.000000   510.000000              20.000000         216.400000   \n",
       "max        243.000000   510.000000              51.000000         350.800000   \n",
       "\n",
       "       total day calls  total day charge  total eve minutes  total eve calls  \\\n",
       "count      3333.000000       3333.000000        3333.000000      3333.000000   \n",
       "mean        100.435644         30.562307         200.980348       100.114311   \n",
       "std          20.069084          9.259435          50.713844        19.922625   \n",
       "min           0.000000          0.000000           0.000000         0.000000   \n",
       "25%          87.000000         24.430000         166.600000        87.000000   \n",
       "50%         101.000000         30.500000         201.400000       100.000000   \n",
       "75%         114.000000         36.790000         235.300000       114.000000   \n",
       "max         165.000000         59.640000         363.700000       170.000000   \n",
       "\n",
       "       total eve charge  total night minutes  total night calls  \\\n",
       "count       3333.000000          3333.000000        3333.000000   \n",
       "mean          17.083540           200.872037         100.107711   \n",
       "std            4.310668            50.573847          19.568609   \n",
       "min            0.000000            23.200000          33.000000   \n",
       "25%           14.160000           167.000000          87.000000   \n",
       "50%           17.120000           201.200000         100.000000   \n",
       "75%           20.000000           235.300000         113.000000   \n",
       "max           30.910000           395.000000         175.000000   \n",
       "\n",
       "       total night charge  total intl minutes  total intl calls  \\\n",
       "count         3333.000000         3333.000000       3333.000000   \n",
       "mean             9.039325           10.237294          4.479448   \n",
       "std              2.275873            2.791840          2.461214   \n",
       "min              1.040000            0.000000          0.000000   \n",
       "25%              7.520000            8.500000          3.000000   \n",
       "50%              9.050000           10.300000          4.000000   \n",
       "75%             10.590000           12.100000          6.000000   \n",
       "max             17.770000           20.000000         20.000000   \n",
       "\n",
       "       total intl charge  customer service calls  \n",
       "count        3333.000000             3333.000000  \n",
       "mean            2.764581                1.562856  \n",
       "std             0.753773                1.315491  \n",
       "min             0.000000                0.000000  \n",
       "25%             2.300000                1.000000  \n",
       "50%             2.780000                1.000000  \n",
       "75%             3.270000                2.000000  \n",
       "max             5.400000                9.000000  "
      ]
     },
     "execution_count": 8,
     "metadata": {},
     "output_type": "execute_result"
    }
   ],
   "source": [
    "## Summary statistics of the numerical columns\n",
    "\n",
    "df.describe()"
   ]
  },
  {
   "cell_type": "code",
   "execution_count": 9,
   "id": "4677f7a2-dfa1-4e47-b130-b765063f9b24",
   "metadata": {},
   "outputs": [
    {
     "data": {
      "text/html": [
       "<div>\n",
       "<style scoped>\n",
       "    .dataframe tbody tr th:only-of-type {\n",
       "        vertical-align: middle;\n",
       "    }\n",
       "\n",
       "    .dataframe tbody tr th {\n",
       "        vertical-align: top;\n",
       "    }\n",
       "\n",
       "    .dataframe thead th {\n",
       "        text-align: right;\n",
       "    }\n",
       "</style>\n",
       "<table border=\"1\" class=\"dataframe\">\n",
       "  <thead>\n",
       "    <tr style=\"text-align: right;\">\n",
       "      <th></th>\n",
       "      <th>state</th>\n",
       "      <th>phone number</th>\n",
       "      <th>international plan</th>\n",
       "      <th>voice mail plan</th>\n",
       "    </tr>\n",
       "  </thead>\n",
       "  <tbody>\n",
       "    <tr>\n",
       "      <th>count</th>\n",
       "      <td>3333</td>\n",
       "      <td>3333</td>\n",
       "      <td>3333</td>\n",
       "      <td>3333</td>\n",
       "    </tr>\n",
       "    <tr>\n",
       "      <th>unique</th>\n",
       "      <td>51</td>\n",
       "      <td>3333</td>\n",
       "      <td>2</td>\n",
       "      <td>2</td>\n",
       "    </tr>\n",
       "    <tr>\n",
       "      <th>top</th>\n",
       "      <td>WV</td>\n",
       "      <td>400-4344</td>\n",
       "      <td>no</td>\n",
       "      <td>no</td>\n",
       "    </tr>\n",
       "    <tr>\n",
       "      <th>freq</th>\n",
       "      <td>106</td>\n",
       "      <td>1</td>\n",
       "      <td>3010</td>\n",
       "      <td>2411</td>\n",
       "    </tr>\n",
       "  </tbody>\n",
       "</table>\n",
       "</div>"
      ],
      "text/plain": [
       "       state phone number international plan voice mail plan\n",
       "count   3333         3333               3333            3333\n",
       "unique    51         3333                  2               2\n",
       "top       WV     400-4344                 no              no\n",
       "freq     106            1               3010            2411"
      ]
     },
     "execution_count": 9,
     "metadata": {},
     "output_type": "execute_result"
    }
   ],
   "source": [
    "## Summary statistics of the categorical columns\n",
    "\n",
    "df.describe(include='object')"
   ]
  },
  {
   "cell_type": "markdown",
   "id": "1392f6c2-4289-4a07-a0fc-7b6cbb4c3eaf",
   "metadata": {},
   "source": [
    "The most frequent plan is the International plan"
   ]
  },
  {
   "cell_type": "code",
   "execution_count": 10,
   "id": "763ae52e-d8d5-4693-a235-1c8cec74a565",
   "metadata": {},
   "outputs": [
    {
     "data": {
      "text/plain": [
       "state                     0\n",
       "account length            0\n",
       "area code                 0\n",
       "phone number              0\n",
       "international plan        0\n",
       "voice mail plan           0\n",
       "number vmail messages     0\n",
       "total day minutes         0\n",
       "total day calls           0\n",
       "total day charge          0\n",
       "total eve minutes         0\n",
       "total eve calls           0\n",
       "total eve charge          0\n",
       "total night minutes       0\n",
       "total night calls         0\n",
       "total night charge        0\n",
       "total intl minutes        0\n",
       "total intl calls          0\n",
       "total intl charge         0\n",
       "customer service calls    0\n",
       "churn                     0\n",
       "dtype: int64"
      ]
     },
     "execution_count": 10,
     "metadata": {},
     "output_type": "execute_result"
    }
   ],
   "source": [
    "## Checking for null values\n",
    "df.isna().sum()"
   ]
  },
  {
   "cell_type": "code",
   "execution_count": 11,
   "id": "41a37210-f0e0-4009-91a8-273c2ea5f565",
   "metadata": {},
   "outputs": [
    {
     "data": {
      "text/html": [
       "<div>\n",
       "<style scoped>\n",
       "    .dataframe tbody tr th:only-of-type {\n",
       "        vertical-align: middle;\n",
       "    }\n",
       "\n",
       "    .dataframe tbody tr th {\n",
       "        vertical-align: top;\n",
       "    }\n",
       "\n",
       "    .dataframe thead th {\n",
       "        text-align: right;\n",
       "    }\n",
       "</style>\n",
       "<table border=\"1\" class=\"dataframe\">\n",
       "  <thead>\n",
       "    <tr style=\"text-align: right;\">\n",
       "      <th></th>\n",
       "      <th>state</th>\n",
       "      <th>account length</th>\n",
       "      <th>area code</th>\n",
       "      <th>phone number</th>\n",
       "      <th>international plan</th>\n",
       "      <th>voice mail plan</th>\n",
       "      <th>number vmail messages</th>\n",
       "      <th>total day minutes</th>\n",
       "      <th>total day calls</th>\n",
       "      <th>total day charge</th>\n",
       "      <th>...</th>\n",
       "      <th>total eve calls</th>\n",
       "      <th>total eve charge</th>\n",
       "      <th>total night minutes</th>\n",
       "      <th>total night calls</th>\n",
       "      <th>total night charge</th>\n",
       "      <th>total intl minutes</th>\n",
       "      <th>total intl calls</th>\n",
       "      <th>total intl charge</th>\n",
       "      <th>customer service calls</th>\n",
       "      <th>churn</th>\n",
       "    </tr>\n",
       "  </thead>\n",
       "  <tbody>\n",
       "  </tbody>\n",
       "</table>\n",
       "<p>0 rows × 21 columns</p>\n",
       "</div>"
      ],
      "text/plain": [
       "Empty DataFrame\n",
       "Columns: [state, account length, area code, phone number, international plan, voice mail plan, number vmail messages, total day minutes, total day calls, total day charge, total eve minutes, total eve calls, total eve charge, total night minutes, total night calls, total night charge, total intl minutes, total intl calls, total intl charge, customer service calls, churn]\n",
       "Index: []\n",
       "\n",
       "[0 rows x 21 columns]"
      ]
     },
     "execution_count": 11,
     "metadata": {},
     "output_type": "execute_result"
    }
   ],
   "source": [
    "## Checking for duplicate values\n",
    "df[df.duplicated()]"
   ]
  },
  {
   "cell_type": "markdown",
   "id": "126b85d7-13f7-4a0f-bf46-2967483c463a",
   "metadata": {},
   "source": [
    "## Analyzing the Churn Variable"
   ]
  },
  {
   "cell_type": "markdown",
   "id": "5d165b0e-ed1d-4f8d-bcfa-bce7ed262f44",
   "metadata": {},
   "source": [
    "### (1) What is the distribution of churn among customers?"
   ]
  },
  {
   "cell_type": "code",
   "execution_count": 12,
   "id": "65f3efce-3d23-40e9-aa14-5f6c21aa7a88",
   "metadata": {},
   "outputs": [
    {
     "name": "stdout",
     "output_type": "stream",
     "text": [
      "churn\n",
      "False    85.508551\n",
      "True     14.491449\n",
      "Name: proportion, dtype: float64\n"
     ]
    }
   ],
   "source": [
    "## Show the distribution of churned vs non-churned customers\n",
    "\n",
    "churn_distribution = df['churn'].value_counts(normalize=True) * 100\n",
    "print(churn_distribution)\n"
   ]
  },
  {
   "cell_type": "markdown",
   "id": "1c0f9e4b-4b92-4610-ab00-603b8640c0f3",
   "metadata": {},
   "source": [
    "14% of the customers have churned"
   ]
  },
  {
   "cell_type": "code",
   "execution_count": 49,
   "id": "05d22dec-6b2f-48e6-a43a-50fbae32d6ef",
   "metadata": {},
   "outputs": [
    {
     "data": {
      "image/png": "[encoded data removed]",
      "text/plain": [
       "<Figure size 700x700 with 1 Axes>"
      ]
     },
     "metadata": {},
     "output_type": "display_data"
    }
   ],
   "source": [
    "\n",
    "# Calculate the churn distribution as percentages\n",
    "churn_counts = df['churn'].value_counts(normalize=True) * 100\n",
    "\n",
    "# Create labels for churned vs non-churned customers\n",
    "labels = ['Non-Churned', 'Churned']\n",
    "\n",
    "# Define the colors for the chart\n",
    "colors = ['#4caf50', '#f44336']\n",
    "\n",
    "# Create the donut chart\n",
    "plt.figure(figsize=(7, 7))\n",
    "plt.pie(churn_counts, labels=labels, colors=colors, autopct='%1.1f%%', startangle=90, wedgeprops={'width': 0.4})\n",
    "\n",
    "centre_circle = plt.Circle((0,0), 0.5, fc='white')\n",
    "plt.gca().add_artist(centre_circle)\n",
    "\n",
    "# Display the chart\n",
    "plt.title('Churn Distribution (Churned vs Non-Churned Customers)')\n",
    "plt.show()\n"
   ]
  },
  {
   "cell_type": "markdown",
   "id": "87418618-7b1b-48eb-891d-17504518692a",
   "metadata": {},
   "source": [
    "### (2) How does churn correlate with the number of customer service calls?"
   ]
  },
  {
   "cell_type": "code",
   "execution_count": 14,
   "id": "300ebe7d-6bbe-4783-968e-e39a68d9d875",
   "metadata": {},
   "outputs": [
    {
     "data": {
      "text/plain": [
       "<Axes: xlabel='churn', ylabel='customer service calls'>"
      ]
     },
     "execution_count": 14,
     "metadata": {},
     "output_type": "execute_result"
    },
    {
     "data": {
      "image/png": "[encoded data removed]",
      "text/plain": [
       "<Figure size 640x480 with 1 Axes>"
      ]
     },
     "metadata": {},
     "output_type": "display_data"
    }
   ],
   "source": [
    "# Compare customer service calls with churn\n",
    "import seaborn as sns\n",
    "sns.boxplot(x='churn', y='customer service calls', data=df)\n"
   ]
  },
  {
   "cell_type": "markdown",
   "id": "d7dcb9ba-2bbf-4258-9d0e-15e028b41c54",
   "metadata": {},
   "source": [
    "From the plot above, people who churned engaged in calling the customer service."
   ]
  },
  {
   "cell_type": "markdown",
   "id": "ca504381-ab4f-4d6b-a91f-60bd1ec2da35",
   "metadata": {},
   "source": [
    " ### (3) Is there a relationship between the total minutes of usage (day, evening, night, international) and churn?"
   ]
  },
  {
   "cell_type": "markdown",
   "id": "2761c26b-4678-40e7-950a-085c6c6aa499",
   "metadata": {},
   "source": [
    "Compare total minutes with churn for each period (day, evening, night, international)\n"
   ]
  },
  {
   "cell_type": "code",
   "execution_count": 15,
   "id": "0a019fd4-87df-4cda-8daf-1dd5db5d491b",
   "metadata": {},
   "outputs": [
    {
     "name": "stderr",
     "output_type": "stream",
     "text": [
      "C:\\Users\\SD\\AppData\\Local\\Programs\\Python\\Python313\\Lib\\site-packages\\seaborn\\axisgrid.py:718: UserWarning: Using the boxplot function without specifying `order` is likely to produce an incorrect plot.\n",
      "  warnings.warn(warning)\n"
     ]
    },
    {
     "data": {
      "image/png": "[encoded data removed]",
      "text/plain": [
       "<Figure size 800x800 with 4 Axes>"
      ]
     },
     "metadata": {},
     "output_type": "display_data"
    }
   ],
   "source": [
    "\n",
    "# Create a FacetGrid with different time periods\n",
    "time_columns = ['total day minutes', 'total eve minutes', 'total night minutes', 'total intl minutes']\n",
    "df_melted = df.melt(id_vars=['churn'], value_vars=time_columns, var_name='Period', value_name='Minutes')\n",
    "\n",
    "g = sns.FacetGrid(df_melted, col=\"Period\", col_wrap=2, height=4)\n",
    "g.map(sns.boxplot, 'churn', 'Minutes')\n",
    "g.set_axis_labels('Churn', 'Minutes')\n",
    "plt.show()\n"
   ]
  },
  {
   "cell_type": "markdown",
   "id": "0998b176-b095-43cf-bd4d-f15e146ac170",
   "metadata": {},
   "source": [
    "The customer who churned had the overall highest minutes in terms of calls,except for International calls."
   ]
  },
  {
   "cell_type": "markdown",
   "id": "48b7bbd0-2f02-446a-ae4b-0c58e71f8d4d",
   "metadata": {},
   "source": [
    "### (4) What is the average number of calls in the day, evening, and night for churned vs non-churned customers?"
   ]
  },
  {
   "cell_type": "code",
   "execution_count": 27,
   "id": "f89d3bd4-159c-43a0-95ec-1d20feb5ea04",
   "metadata": {},
   "outputs": [
    {
     "data": {
      "text/html": [
       "<div>\n",
       "<style scoped>\n",
       "    .dataframe tbody tr th:only-of-type {\n",
       "        vertical-align: middle;\n",
       "    }\n",
       "\n",
       "    .dataframe tbody tr th {\n",
       "        vertical-align: top;\n",
       "    }\n",
       "\n",
       "    .dataframe thead th {\n",
       "        text-align: right;\n",
       "    }\n",
       "</style>\n",
       "<table border=\"1\" class=\"dataframe\">\n",
       "  <thead>\n",
       "    <tr style=\"text-align: right;\">\n",
       "      <th></th>\n",
       "      <th>total day calls</th>\n",
       "      <th>total eve calls</th>\n",
       "      <th>total night calls</th>\n",
       "    </tr>\n",
       "    <tr>\n",
       "      <th>churn</th>\n",
       "      <th></th>\n",
       "      <th></th>\n",
       "      <th></th>\n",
       "    </tr>\n",
       "  </thead>\n",
       "  <tbody>\n",
       "    <tr>\n",
       "      <th>False</th>\n",
       "      <td>100.283158</td>\n",
       "      <td>100.038596</td>\n",
       "      <td>100.058246</td>\n",
       "    </tr>\n",
       "    <tr>\n",
       "      <th>True</th>\n",
       "      <td>101.335404</td>\n",
       "      <td>100.561077</td>\n",
       "      <td>100.399586</td>\n",
       "    </tr>\n",
       "  </tbody>\n",
       "</table>\n",
       "</div>"
      ],
      "text/plain": [
       "       total day calls  total eve calls  total night calls\n",
       "churn                                                     \n",
       "False       100.283158       100.038596         100.058246\n",
       "True        101.335404       100.561077         100.399586"
      ]
     },
     "execution_count": 27,
     "metadata": {},
     "output_type": "execute_result"
    }
   ],
   "source": [
    "# Average calls by time of day for churn vs non-churntotal day calls', 'total eve calls', 'total night calls'\n",
    "df.groupby('churn')[['total day calls', 'total eve calls', 'total night calls']].mean()\n",
    "\n"
   ]
  },
  {
   "cell_type": "markdown",
   "id": "872e30c6-3fa2-4b89-8808-b1200e608786",
   "metadata": {},
   "source": [
    "The customers who churned had the highest average when it comes to making calls with the company."
   ]
  },
  {
   "cell_type": "markdown",
   "id": "5c0b4762-07ba-4268-9f0c-e1f387b4db95",
   "metadata": {},
   "source": [
    " ### (5) What is the distribution of the \"account length\" for customers who churn vs those who don't?"
   ]
  },
  {
   "cell_type": "code",
   "execution_count": 37,
   "id": "af659b68-83aa-4c5c-9561-1ebaf3b8710a",
   "metadata": {},
   "outputs": [
    {
     "data": {
      "text/plain": [
       "<Axes: xlabel='churn', ylabel='account length'>"
      ]
     },
     "execution_count": 37,
     "metadata": {},
     "output_type": "execute_result"
    },
    {
     "data": {
      "image/png": "[encoded data removed]",
      "text/plain": [
       "<Figure size 640x480 with 1 Axes>"
      ]
     },
     "metadata": {},
     "output_type": "display_data"
    }
   ],
   "source": [
    "# Compare account length for churn vs non-churn\n",
    "sns.boxplot(x='churn', y='account length', data=df)\n"
   ]
  },
  {
   "cell_type": "markdown",
   "id": "6919dbf4-61ba-4f31-a226-559b01f58b2d",
   "metadata": {},
   "source": [
    "Non churned customers had the highest account length according to this boxplot."
   ]
  },
  {
   "cell_type": "markdown",
   "id": "3572d91d-f09f-4ae9-ae83-b39943a79e1b",
   "metadata": {},
   "source": [
    "## (6) What is the correlation between numerical features (e.g., total minutes, charges) and churn?"
   ]
  },
  {
   "cell_type": "code",
   "execution_count": 44,
   "id": "3d9e33de-5867-420c-8899-6d132181edee",
   "metadata": {},
   "outputs": [
    {
     "name": "stdout",
     "output_type": "stream",
     "text": [
      "churn2                    1.000000\n",
      "customer service calls    0.208750\n",
      "total day minutes         0.205151\n",
      "total day charge          0.205151\n",
      "total eve minutes         0.092796\n",
      "total eve charge          0.092786\n",
      "total intl charge         0.068259\n",
      "total intl minutes        0.068239\n",
      "total night charge        0.035496\n",
      "total night minutes       0.035493\n",
      "total day calls           0.018459\n",
      "account length            0.016541\n",
      "total eve calls           0.009233\n",
      "area code                 0.006174\n",
      "total night calls         0.006141\n",
      "total intl calls         -0.052844\n",
      "number vmail messages    -0.089728\n",
      "Name: churn2, dtype: float64\n"
     ]
    }
   ],
   "source": [
    "# Convert 'churn' column from boolean to numeric (True=1, False=0)\n",
    "df['churn2'] = df['churn'].astype(int)\n",
    "\n",
    "# Select numerical columns\n",
    "numerical_df = df.select_dtypes(include=['number'])\n",
    "\n",
    "# Compute the correlation matrix\n",
    "corr = numerical_df.corr()\n",
    "\n",
    "# Print the correlation between churn and other numerical features\n",
    "print(corr['churn2'].sort_values(ascending=False))\n"
   ]
  },
  {
   "cell_type": "markdown",
   "id": "f3158915-4f76-49bf-b751-57f6614311ec",
   "metadata": {},
   "source": [
    "Strongest positive correlations: customer service calls, total day minutes, and total day charge are moderately correlated with churn. Customers who are likely to churn tend to make more customer service calls and use more daytime minutes and incur higher charges during the day.\n",
    "\n",
    "Weak positive correlations: Features like total eve minutes, total intl charge, and total night minutes have weak positive correlations with churn, indicating a slight tendency for customers with higher usage in these categories to churn.\n",
    "\n",
    "Weak negative correlations: Some features like total intl calls and number of voicemail messages show weak negative correlations with churn, suggesting that customers with more international calls or voicemail messages may be slightly less likely to churn, but the effect is not strong.\n",
    "\n",
    "No meaningful correlations: Features like area code, total eve calls, and account length show either no correlation or extremely weak correlations with churn."
   ]
  },
  {
   "cell_type": "code",
   "execution_count": null,
   "id": "95f5b083-64b2-49e3-97e4-49ff003c3881",
   "metadata": {},
   "outputs": [],
   "source": [
    "\n"
   ]
  },
  {
   "cell_type": "markdown",
   "id": "a258f5ea-79d8-4ddd-89f2-524cd7e650b1",
   "metadata": {},
   "source": [
    "### (7) How do churn rates differ based on area code?"
   ]
  },
  {
   "cell_type": "code",
   "execution_count": 45,
   "id": "4157ea7a-0c31-47bc-97b6-94220b0cb684",
   "metadata": {},
   "outputs": [
    {
     "data": {
      "text/plain": [
       "<Axes: xlabel='area code', ylabel='count'>"
      ]
     },
     "execution_count": 45,
     "metadata": {},
     "output_type": "execute_result"
    },
    {
     "data": {
      "image/png": "[encoded data removed]",
      "text/plain": [
       "<Figure size 640x480 with 1 Axes>"
      ]
     },
     "metadata": {},
     "output_type": "display_data"
    }
   ],
   "source": [
    "# Churn rate by area code\n",
    "sns.countplot(x='area code', hue='churn', data=df)\n"
   ]
  },
  {
   "cell_type": "markdown",
   "id": "97c50d37-efcd-408f-96e2-e2180053c11e",
   "metadata": {},
   "source": [
    " The 415 area code has majority of the customers and it appears it also had the highest churn rate. Area code 408 had the lowesr churn rate."
   ]
  },
  {
   "cell_type": "markdown",
   "id": "caafb9a5-4673-4cfc-b559-a0595f7338c8",
   "metadata": {},
   "source": [
    "### (8)  Is there a difference in the total charges (day, evening, night, international) between churned and non-churned customers?"
   ]
  },
  {
   "cell_type": "code",
   "execution_count": 47,
   "id": "613a08f9-4a5d-41f9-b8f0-3345fbe6fda3",
   "metadata": {},
   "outputs": [
    {
     "data": {
      "image/png": "[encoded data removed]",
      "text/plain": [
       "<Figure size 1200x1000 with 4 Axes>"
      ]
     },
     "metadata": {},
     "output_type": "display_data"
    }
   ],
   "source": [
    "# Compare total charges with churn\n",
    "\n",
    "# Set the figure size and style for better display\n",
    "plt.figure(figsize=(12, 10))\n",
    "\n",
    "# Create a grid of subplots: 2 rows, 2 columns\n",
    "plt.subplot(2, 2, 1)\n",
    "sns.boxplot(x='churn', y='total day charge', data=df)\n",
    "plt.title('Total Day Charge vs Churn')\n",
    "\n",
    "plt.subplot(2, 2, 2)\n",
    "sns.boxplot(x='churn', y='total eve charge', data=df)\n",
    "plt.title('Total Eve Charge vs Churn')\n",
    "\n",
    "plt.subplot(2, 2, 3)\n",
    "sns.boxplot(x='churn', y='total night charge', data=df)\n",
    "plt.title('Total Night Charge vs Churn')\n",
    "\n",
    "plt.subplot(2, 2, 4)\n",
    "sns.boxplot(x='churn', y='total intl charge', data=df)\n",
    "plt.title('Total International Charge vs Churn')\n",
    "\n",
    "plt.tight_layout()\n",
    "\n",
    "plt.show()\n"
   ]
  },
  {
   "cell_type": "markdown",
   "id": "e0900fb3-57f4-4d0a-a6b7-5a589a77a045",
   "metadata": {},
   "source": [
    "There is a significant difference between the  charges and customer who churned and those who didnt. Daytime and International Usage: Customers who churned typically had higher  charges compared to non-churned customers, except for the night charge."
   ]
  },
  {
   "cell_type": "markdown",
   "id": "7249e1c2-53f6-457a-8e2f-e0842298317c",
   "metadata": {},
   "source": [
    "### (9) Are there significant differences in churn based on the \"number of voicemail messages\"?"
   ]
  },
  {
   "cell_type": "code",
   "execution_count": 48,
   "id": "2cab23d6-06ea-4886-828a-7208818022ca",
   "metadata": {},
   "outputs": [
    {
     "data": {
      "text/plain": [
       "<Axes: xlabel='churn', ylabel='number vmail messages'>"
      ]
     },
     "execution_count": 48,
     "metadata": {},
     "output_type": "execute_result"
    },
    {
     "data": {
      "image/png": "[encoded data removed]",
      "text/plain": [
       "<Figure size 640x480 with 1 Axes>"
      ]
     },
     "metadata": {},
     "output_type": "display_data"
    }
   ],
   "source": [
    "# Distribution of voicemail messages based on churn\n",
    "sns.boxplot(x='churn', y='number vmail messages', data=df)\n"
   ]
  },
  {
   "cell_type": "markdown",
   "id": "2396f978-c329-42d2-8719-684f68d427da",
   "metadata": {},
   "source": [
    "The customer who didnt churn had a higher number of voicemail messages, compared to the customers who churned."
   ]
  },
  {
   "cell_type": "markdown",
   "id": "3886b73a-3c8e-4fda-81df-91017f205cfe",
   "metadata": {},
   "source": [
    "\n",
    "\n",
    "### **Findings**\n",
    "\n",
    "1. **Churn Rate**:\n",
    "   - **14% of the customers have churned**, indicating that a notable portion of the customer base has discontinued service.\n",
    "\n",
    "2. **Customer Service Calls and Churn**:\n",
    "   - Customers who churned tended to make **more customer service calls** compared to those who remained. This suggests that **increased customer service interaction** might be indicative of dissatisfaction or issues that could lead to churn.\n",
    "\n",
    "3. **Usage Patterns and Charges**:\n",
    "   - Churned customers exhibited higher overall **call minutes**, particularly in **daytime usage**, with higher **total day charges** and **total day minutes**. This suggests that customers who use the service more (during the day) tend to churn more frequently, possibly due to **high service costs or dissatisfaction** with the service.\n",
    "   - Interestingly, **international calls** did not follow the same trend, with churned customers showing **lower international charges** compared to their non-churned counterparts.\n",
    "\n",
    "4. **Account Length**:\n",
    "   - Non-churned customers, on average, had a **longer account length**, indicating that customers who have been with the service for a longer time tend to stay longer, while newer customers may be more likely to churn.\n",
    "\n",
    "5. **Correlation with Churn**:\n",
    "   - **Moderate positive correlations** were found between churn and the following features:\n",
    "     - **Customer service calls**: Higher interaction with customer service correlates with churn.\n",
    "     - **Total day minutes** and **total day charge**: Churned customers tend to use more daytime minutes and incur higher charges.\n",
    "   - **Weak positive correlations**:\n",
    "     - **Total evening minutes**, **total international charge**, and **total night minutes** show weak correlations with churn, suggesting that while there is some relationship, it is not as strong.\n",
    "   - **Weak negative correlations**:\n",
    "     - **International calls** and **number of voicemail messages** were weakly negatively correlated with churn, indicating that customers who make more international calls or receive more voicemail messages may be less likely to churn, though this effect is minimal.\n",
    "   - **No meaningful correlations**:\n",
    "     - Features such as **area code**, **total evening calls**, and **account length** showed either no correlation or very weak correlations with churn.\n",
    "\n",
    "6. **Area Code and Churn**:\n",
    "   - The **415 area code** represented the majority of customers and also had the **highest churn rate**, while the **408 area code** exhibited the **lowest churn rate**. This could suggest regional factors influencing churn, such as network quality or pricing structures.\n",
    "\n",
    "7. **Significant Differences in Charges**:\n",
    "   - There is a **statistically significant difference** between the charges for churned and non-churned customers. Churned customers tend to have **higher day and international charges**, which may indicate that high service costs or billing issues contribute to their decision to churn. Conversely, **night charges** showed no significant difference.\n",
    "\n",
    "8. **Voicemail Messages and Churn**:\n",
    "   - Non-churned customers had a **higher number of voicemail messages** compared to churned customers, suggesting that churned customers might be less engaged or less satisfied with the service.\n",
    "\n",
    "---\n",
    "\n",
    "### **Conclusion:**\n",
    "\n",
    "The analysis reveals several key insights into customer churn. Customers who churned tend to have higher daytime usage and charges, suggesting that high service costs could be a significant factor influencing their decision to leave. Additionally, higher customer service interactions correlate with churn, indicating that unresolved issues may play a role in customer dissatisfaction. Interestingly, non-churned customers tend to have a longer account length and higher engagement with the service, including voicemail usage.\n",
    "\n",
    "Geographic factors, such as area codes, also seem to influence churn rates, with the **415 area code** experiencing the highest churn rate. These findings suggest that there may be regional or network-related factors impacting customer retention.\n",
    "\n",
    "---\n",
    "\n",
    "### **Recommendations:**\n",
    "\n",
    "1. **Focus on High-Usage Customers**:\n",
    "   - Since customers with **higher day and international charges** are more likely to churn, the company should consider offering **better pricing plans** for heavy users. This could include **daytime or international calling plans** that are more cost-effective or flexible to reduce high charges.\n",
    "   \n",
    "2. **Enhance Customer Service Interaction**:\n",
    "   - The moderate correlation between **customer service calls** and churn indicates that customers who frequently contact customer service may be facing unresolved issues. The company should **improve its customer service experience**, ensuring that concerns are addressed promptly to prevent churn. A **proactive approach**, such as offering personalized support for high-usage customers, could help reduce churn.\n",
    "\n",
    "3. **Increase Customer Engagement**:\n",
    "   - Since non-churned customers have a higher **number of voicemail messages**, the company should explore ways to engage customers more effectively, such as by encouraging the use of voicemail features or offering incentives for continued service usage.\n",
    "\n",
    "4. **Investigate Regional Factors**:\n",
    "   - Given the differences in churn by **area code**, the company should investigate whether there are specific network, service quality, or pricing issues that disproportionately affect customers in the **415 area code**. Targeted interventions in these regions could help reduce churn.\n",
    "\n",
    "5. **Offer Long-Term Incentives**:\n",
    "   - Customers with **longer account lengths** are less likely to churn. The company should introduce loyalty programs or **long-term discounts** to reward customers who stay with the service for extended periods, thus incentivizing them to remain with the company.\n",
    "\n",
    "6. **Address Billing Concerns**:\n",
    "   - Since high charges are correlated with churn, ensuring **clear billing practices** and offering **flexible payment options** could mitigate churn caused by billing concerns.\n",
    "\n",
    "By addressing these areas, the company can better target at-risk customers, improve satisfaction, and reduce overall churn.\n",
    "\n",
    "--- \n"
   ]
  },
  {
   "cell_type": "code",
   "execution_count": null,
   "id": "e76b3009-2b42-4502-8d77-567ead6249a8",
   "metadata": {},
   "outputs": [],
   "source": []
  }
 ],
 "metadata": {
  "kernelspec": {
   "display_name": "Python 3 (ipykernel)",
   "language": "python",
   "name": "python3"
  },
  "language_info": {
   "codemirror_mode": {
    "name": "ipython",
    "version": 3
   },
   "file_extension": ".py",
   "mimetype": "text/x-python",
   "name": "python",
   "nbconvert_exporter": "python",
   "pygments_lexer": "ipython3",
   "version": "3.13.1"
  }
 },
 "nbformat": 4,
 "nbformat_minor": 5
}
